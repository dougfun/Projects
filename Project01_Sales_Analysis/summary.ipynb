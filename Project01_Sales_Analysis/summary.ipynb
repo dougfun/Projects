{
 "cells": [
  {
   "attachments": {},
   "cell_type": "markdown",
   "metadata": {},
   "source": [
    "####  Understanding our steps before start coding"
   ]
  },
  {
   "attachments": {},
   "cell_type": "markdown",
   "metadata": {},
   "source": [
    "### Doubts: <p>(Always verify wether we have hidden columns and tabs before starting any analysis)</p>\n",
    "\n",
    "- What is the origin of these reports?\n",
    "    - They are extracted from the sale system.\n",
    "- Total Columns = 11\n",
    "    - It only changes it there is a solicitation of inclusion for the fields.\n",
    "- Date (what kind of? sell, but, deliver?)\n",
    "    - It means sell date\n",
    "- Tabs is always named as 'Data'?\n",
    "    - Yes, it is always named `Data`\n",
    "- Who are the buyers?\n",
    "    - Does the file name matter?\n",
    "    - File name is configured this ways:\n",
    "    <br>`name of segment - country where the sell was made`\n"
   ]
  },
  {
   "attachments": {},
   "cell_type": "markdown",
   "metadata": {},
   "source": [
    "### Step by step:\n",
    "\n",
    "<br>1 - Create a new excel file\n",
    "<br>2 - Replicate the existing columns from the reports (11 columns)\n",
    "<br>3 - Insert 2 columns: Segmento e País\n",
    "<br>4 - Get all data and insert into new file to analyse it!"
   ]
  },
  {
   "attachments": {},
   "cell_type": "markdown",
   "metadata": {},
   "source": [
    "Starting by installing pandas\n",
    "    "
   ]
  }
 ],
 "metadata": {
  "language_info": {
   "name": "python"
  },
  "orig_nbformat": 4
 },
 "nbformat": 4,
 "nbformat_minor": 2
}
