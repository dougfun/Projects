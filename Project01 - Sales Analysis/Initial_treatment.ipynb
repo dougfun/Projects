{
 "cells": [
  {
   "attachments": {},
   "cell_type": "markdown",
   "metadata": {},
   "source": [
    "## Testing our code before script"
   ]
  },
  {
   "cell_type": "code",
   "execution_count": 1,
   "metadata": {},
   "outputs": [],
   "source": [
    "import pandas as pd\n",
    "import os\n",
    "import datetime"
   ]
  },
  {
   "cell_type": "code",
   "execution_count": 2,
   "metadata": {},
   "outputs": [],
   "source": [
    "data = datetime.datetime.now()"
   ]
  },
  {
   "cell_type": "code",
   "execution_count": 3,
   "metadata": {},
   "outputs": [],
   "source": [
    "## CREATING A NEW BLANK EXCEL FILE !!\n",
    "## REPLICATING COLUMNS IN THE REPORT !!\n",
    "## INSERTING 2 NEW COLUMNS (Segmento, País) !!\n",
    "\n",
    "colunas = [\n",
    "    'Segmento',\n",
    "    'País',\n",
    "    'Produto',\n",
    "    'Qtde de Unidades Vendidas',\n",
    "    'Preço Unitário',\n",
    "    'Valor Total',\n",
    "    'Desconto',\n",
    "    'Valor Total c/ Desconto',\n",
    "    'Custo Total',\n",
    "    'Lucro',\n",
    "    'Data',\n",
    "    'Mês',\n",
    "    'Ano'\n",
    "]\n",
    "\n",
    "consolidado = pd.DataFrame(columns=colunas)"
   ]
  },
  {
   "cell_type": "code",
   "execution_count": 55,
   "metadata": {},
   "outputs": [
    {
     "data": {
      "text/html": [
       "<div>\n",
       "<style scoped>\n",
       "    .dataframe tbody tr th:only-of-type {\n",
       "        vertical-align: middle;\n",
       "    }\n",
       "\n",
       "    .dataframe tbody tr th {\n",
       "        vertical-align: top;\n",
       "    }\n",
       "\n",
       "    .dataframe thead th {\n",
       "        text-align: right;\n",
       "    }\n",
       "</style>\n",
       "<table border=\"1\" class=\"dataframe\">\n",
       "  <thead>\n",
       "    <tr style=\"text-align: right;\">\n",
       "      <th></th>\n",
       "      <th>Segmento</th>\n",
       "      <th>País</th>\n",
       "      <th>Produto</th>\n",
       "      <th>Qtde de Unidades Vendidas</th>\n",
       "      <th>Preço Unitário</th>\n",
       "      <th>Valor Total</th>\n",
       "      <th>Desconto</th>\n",
       "      <th>Valor Total c/ Desconto</th>\n",
       "      <th>Custo Total</th>\n",
       "      <th>Lucro</th>\n",
       "      <th>Data</th>\n",
       "      <th>Mês</th>\n",
       "      <th>Ano</th>\n",
       "    </tr>\n",
       "  </thead>\n",
       "  <tbody>\n",
       "  </tbody>\n",
       "</table>\n",
       "</div>"
      ],
      "text/plain": [
       "Empty DataFrame\n",
       "Columns: [Segmento, País, Produto, Qtde de Unidades Vendidas, Preço Unitário, Valor Total, Desconto, Valor Total c/ Desconto, Custo Total, Lucro, Data, Mês, Ano]\n",
       "Index: []"
      ]
     },
     "execution_count": 55,
     "metadata": {},
     "output_type": "execute_result"
    }
   ],
   "source": [
    "type(consolidado)\n",
    "consolidado"
   ]
  },
  {
   "cell_type": "code",
   "execution_count": 4,
   "metadata": {},
   "outputs": [],
   "source": [
    "## Accessing excel files\n",
    "## Right click on the folder and select \"Copy Path\"\n",
    "\n",
    "files = os.listdir(\"planilhas\")"
   ]
  },
  {
   "cell_type": "code",
   "execution_count": null,
   "metadata": {},
   "outputs": [],
   "source": [
    "# df = DataFrame\n",
    "# Copy \"Relative Path\" (Same step as above)\n",
    "\n",
    "df = pd.read_excel('planilhas\\\\Governo-Alemanha.xlsx')"
   ]
  },
  {
   "cell_type": "code",
   "execution_count": null,
   "metadata": {},
   "outputs": [],
   "source": [
    "# Reading from top to bottom\n",
    "\n",
    "df.head()"
   ]
  },
  {
   "cell_type": "code",
   "execution_count": null,
   "metadata": {},
   "outputs": [],
   "source": [
    "# Inserting columns (index, column name, value)\n",
    "df.insert(0, 'Segmento', 'Brasil')"
   ]
  },
  {
   "cell_type": "code",
   "execution_count": null,
   "metadata": {},
   "outputs": [],
   "source": [
    "# Spliting name of the file to add as a column and later gathering\n",
    "# all files in a single one\n",
    "\n",
    "for file in files:\n",
    "    data_file = file.split('-')\n",
    "    segmento = data_file[0]\n",
    "    pais = data_file[1].replace('.xlsx', '')\n",
    "\n",
    "    print(segmento)\n",
    "    print(pais)"
   ]
  },
  {
   "cell_type": "code",
   "execution_count": null,
   "metadata": {},
   "outputs": [],
   "source": [
    "for file in files:\n",
    "    data_file = file.split('-')\n",
    "    segmento = data_file[0]\n",
    "    pais = data_file[1].replace('.xlsx', '')\n",
    "\n",
    "    # This will create a dataframe with the content we analysed\n",
    "    df = pd.read_excel(f'planilhas\\\\{file}')\n",
    "    df.insert(0, 'Segmento', segmento)\n",
    "    df.insert(1, 'País', pais)\n",
    "\n",
    "    # Adding to consolidated (Excel)\n",
    "    consolidado = consolidado.append(df)\n"
   ]
  },
  {
   "cell_type": "code",
   "execution_count": null,
   "metadata": {},
   "outputs": [],
   "source": [
    "consolidado"
   ]
  },
  {
   "cell_type": "code",
   "execution_count": null,
   "metadata": {},
   "outputs": [],
   "source": [
    "# Checking columns and rows\n",
    "consolidado.shape"
   ]
  },
  {
   "cell_type": "code",
   "execution_count": 5,
   "metadata": {},
   "outputs": [
    {
     "name": "stderr",
     "output_type": "stream",
     "text": [
      "C:\\Users\\dougi\\AppData\\Local\\Temp\\ipykernel_11988\\1008312536.py:18: FutureWarning: The frame.append method is deprecated and will be removed from pandas in a future version. Use pandas.concat instead.\n",
      "  consolidado = consolidado.append(df)\n",
      "C:\\Users\\dougi\\AppData\\Local\\Temp\\ipykernel_11988\\1008312536.py:18: FutureWarning: The frame.append method is deprecated and will be removed from pandas in a future version. Use pandas.concat instead.\n",
      "  consolidado = consolidado.append(df)\n",
      "C:\\Users\\dougi\\AppData\\Local\\Temp\\ipykernel_11988\\1008312536.py:18: FutureWarning: The frame.append method is deprecated and will be removed from pandas in a future version. Use pandas.concat instead.\n",
      "  consolidado = consolidado.append(df)\n",
      "C:\\Users\\dougi\\AppData\\Local\\Temp\\ipykernel_11988\\1008312536.py:18: FutureWarning: The frame.append method is deprecated and will be removed from pandas in a future version. Use pandas.concat instead.\n",
      "  consolidado = consolidado.append(df)\n",
      "C:\\Users\\dougi\\AppData\\Local\\Temp\\ipykernel_11988\\1008312536.py:18: FutureWarning: The frame.append method is deprecated and will be removed from pandas in a future version. Use pandas.concat instead.\n",
      "  consolidado = consolidado.append(df)\n",
      "C:\\Users\\dougi\\AppData\\Local\\Temp\\ipykernel_11988\\1008312536.py:18: FutureWarning: The frame.append method is deprecated and will be removed from pandas in a future version. Use pandas.concat instead.\n",
      "  consolidado = consolidado.append(df)\n",
      "C:\\Users\\dougi\\AppData\\Local\\Temp\\ipykernel_11988\\1008312536.py:18: FutureWarning: The frame.append method is deprecated and will be removed from pandas in a future version. Use pandas.concat instead.\n",
      "  consolidado = consolidado.append(df)\n",
      "C:\\Users\\dougi\\AppData\\Local\\Temp\\ipykernel_11988\\1008312536.py:18: FutureWarning: The frame.append method is deprecated and will be removed from pandas in a future version. Use pandas.concat instead.\n",
      "  consolidado = consolidado.append(df)\n",
      "C:\\Users\\dougi\\AppData\\Local\\Temp\\ipykernel_11988\\1008312536.py:18: FutureWarning: The frame.append method is deprecated and will be removed from pandas in a future version. Use pandas.concat instead.\n",
      "  consolidado = consolidado.append(df)\n",
      "C:\\Users\\dougi\\AppData\\Local\\Temp\\ipykernel_11988\\1008312536.py:18: FutureWarning: The frame.append method is deprecated and will be removed from pandas in a future version. Use pandas.concat instead.\n",
      "  consolidado = consolidado.append(df)\n",
      "C:\\Users\\dougi\\AppData\\Local\\Temp\\ipykernel_11988\\1008312536.py:18: FutureWarning: The frame.append method is deprecated and will be removed from pandas in a future version. Use pandas.concat instead.\n",
      "  consolidado = consolidado.append(df)\n",
      "C:\\Users\\dougi\\AppData\\Local\\Temp\\ipykernel_11988\\1008312536.py:18: FutureWarning: The frame.append method is deprecated and will be removed from pandas in a future version. Use pandas.concat instead.\n",
      "  consolidado = consolidado.append(df)\n",
      "C:\\Users\\dougi\\AppData\\Local\\Temp\\ipykernel_11988\\1008312536.py:18: FutureWarning: The frame.append method is deprecated and will be removed from pandas in a future version. Use pandas.concat instead.\n",
      "  consolidado = consolidado.append(df)\n",
      "C:\\Users\\dougi\\AppData\\Local\\Temp\\ipykernel_11988\\1008312536.py:18: FutureWarning: The frame.append method is deprecated and will be removed from pandas in a future version. Use pandas.concat instead.\n",
      "  consolidado = consolidado.append(df)\n",
      "C:\\Users\\dougi\\AppData\\Local\\Temp\\ipykernel_11988\\1008312536.py:18: FutureWarning: The frame.append method is deprecated and will be removed from pandas in a future version. Use pandas.concat instead.\n",
      "  consolidado = consolidado.append(df)\n",
      "C:\\Users\\dougi\\AppData\\Local\\Temp\\ipykernel_11988\\1008312536.py:18: FutureWarning: The frame.append method is deprecated and will be removed from pandas in a future version. Use pandas.concat instead.\n",
      "  consolidado = consolidado.append(df)\n",
      "C:\\Users\\dougi\\AppData\\Local\\Temp\\ipykernel_11988\\1008312536.py:18: FutureWarning: The frame.append method is deprecated and will be removed from pandas in a future version. Use pandas.concat instead.\n",
      "  consolidado = consolidado.append(df)\n",
      "C:\\Users\\dougi\\AppData\\Local\\Temp\\ipykernel_11988\\1008312536.py:18: FutureWarning: The frame.append method is deprecated and will be removed from pandas in a future version. Use pandas.concat instead.\n",
      "  consolidado = consolidado.append(df)\n",
      "C:\\Users\\dougi\\AppData\\Local\\Temp\\ipykernel_11988\\1008312536.py:18: FutureWarning: The frame.append method is deprecated and will be removed from pandas in a future version. Use pandas.concat instead.\n",
      "  consolidado = consolidado.append(df)\n",
      "C:\\Users\\dougi\\AppData\\Local\\Temp\\ipykernel_11988\\1008312536.py:18: FutureWarning: The frame.append method is deprecated and will be removed from pandas in a future version. Use pandas.concat instead.\n",
      "  consolidado = consolidado.append(df)\n",
      "C:\\Users\\dougi\\AppData\\Local\\Temp\\ipykernel_11988\\1008312536.py:18: FutureWarning: The frame.append method is deprecated and will be removed from pandas in a future version. Use pandas.concat instead.\n",
      "  consolidado = consolidado.append(df)\n",
      "C:\\Users\\dougi\\AppData\\Local\\Temp\\ipykernel_11988\\1008312536.py:18: FutureWarning: The frame.append method is deprecated and will be removed from pandas in a future version. Use pandas.concat instead.\n",
      "  consolidado = consolidado.append(df)\n",
      "C:\\Users\\dougi\\AppData\\Local\\Temp\\ipykernel_11988\\1008312536.py:18: FutureWarning: The frame.append method is deprecated and will be removed from pandas in a future version. Use pandas.concat instead.\n",
      "  consolidado = consolidado.append(df)\n",
      "C:\\Users\\dougi\\AppData\\Local\\Temp\\ipykernel_11988\\1008312536.py:18: FutureWarning: The frame.append method is deprecated and will be removed from pandas in a future version. Use pandas.concat instead.\n",
      "  consolidado = consolidado.append(df)\n",
      "C:\\Users\\dougi\\AppData\\Local\\Temp\\ipykernel_11988\\1008312536.py:18: FutureWarning: The frame.append method is deprecated and will be removed from pandas in a future version. Use pandas.concat instead.\n",
      "  consolidado = consolidado.append(df)\n"
     ]
    }
   ],
   "source": [
    "# In case we receive more files that are no excel, we should treat\n",
    "# it in order to solve future errors.\n",
    "\n",
    "files = os.listdir(\"planilhas\")\n",
    "\n",
    "for excel in files:\n",
    "    if excel.endswith('.xlsx'):\n",
    "        data_file = excel.split('-')\n",
    "        segmento = data_file[0]\n",
    "        pais = data_file[1].replace('.xlsx', '')\n",
    "\n",
    "        # This will create a dataframe with the content we analysed\n",
    "        try:\n",
    "            df = pd.read_excel(f'planilhas\\\\{excel}')\n",
    "            df.insert(0, 'Segmento', segmento)\n",
    "            df.insert(1, 'País', pais)\n",
    "        # Adding to consolidated (Excel)\n",
    "            consolidado = consolidado.append(df)\n",
    "            \n",
    "        except:\n",
    "            with open('log_errors.txt', 'w') as file:\n",
    "                file.write(f'Error trying to consolidate the file {excel}.')\n",
    "    else:\n",
    "        with open('log_errors.txt', 'w') as file:\n",
    "            file.write(f'The file {excel} is not valid as excel.')\n"
   ]
  },
  {
   "cell_type": "code",
   "execution_count": 6,
   "metadata": {},
   "outputs": [
    {
     "data": {
      "text/plain": [
       "(700, 13)"
      ]
     },
     "execution_count": 6,
     "metadata": {},
     "output_type": "execute_result"
    }
   ],
   "source": [
    "consolidado.shape"
   ]
  },
  {
   "cell_type": "code",
   "execution_count": 7,
   "metadata": {},
   "outputs": [],
   "source": [
    "consolidado['Data'] = consolidado['Data'].dt.strftime('%d/%m/%Y')"
   ]
  },
  {
   "cell_type": "code",
   "execution_count": 8,
   "metadata": {},
   "outputs": [],
   "source": [
    "consolidado.to_excel(f\"Report-consolidado-{data.strftime('%d-%m-%Y')}.xlsx\", \n",
    "                     index = False,\n",
    "                     sheet_name = 'Report Consolidated')"
   ]
  },
  {
   "cell_type": "code",
   "execution_count": 10,
   "metadata": {},
   "outputs": [],
   "source": [
    "consolidado['Data'] = pd.to_datetime(consolidado['Data'])"
   ]
  },
  {
   "cell_type": "code",
   "execution_count": 11,
   "metadata": {},
   "outputs": [
    {
     "name": "stdout",
     "output_type": "stream",
     "text": [
      "<class 'pandas.core.frame.DataFrame'>\n",
      "Int64Index: 700 entries, 0 to 19\n",
      "Data columns (total 13 columns):\n",
      " #   Column                     Non-Null Count  Dtype         \n",
      "---  ------                     --------------  -----         \n",
      " 0   Segmento                   700 non-null    object        \n",
      " 1   País                       700 non-null    object        \n",
      " 2   Produto                    700 non-null    object        \n",
      " 3   Qtde de Unidades Vendidas  700 non-null    object        \n",
      " 4   Preço Unitário             700 non-null    object        \n",
      " 5   Valor Total                700 non-null    object        \n",
      " 6   Desconto                   700 non-null    float64       \n",
      " 7   Valor Total c/ Desconto    700 non-null    float64       \n",
      " 8   Custo Total                700 non-null    float64       \n",
      " 9   Lucro                      700 non-null    float64       \n",
      " 10  Data                       700 non-null    datetime64[ns]\n",
      " 11  Mês                        700 non-null    object        \n",
      " 12  Ano                        700 non-null    object        \n",
      "dtypes: datetime64[ns](1), float64(4), object(8)\n",
      "memory usage: 76.6+ KB\n"
     ]
    }
   ],
   "source": [
    "consolidado.info()"
   ]
  },
  {
   "attachments": {},
   "cell_type": "markdown",
   "metadata": {},
   "source": [
    "` From here we are set to create our .py extension`"
   ]
  },
  {
   "cell_type": "markdown",
   "metadata": {},
   "source": []
  }
 ],
 "metadata": {
  "kernelspec": {
   "display_name": "Python 3",
   "language": "python",
   "name": "python3"
  },
  "language_info": {
   "codemirror_mode": {
    "name": "ipython",
    "version": 3
   },
   "file_extension": ".py",
   "mimetype": "text/x-python",
   "name": "python",
   "nbconvert_exporter": "python",
   "pygments_lexer": "ipython3",
   "version": "3.9.13"
  },
  "orig_nbformat": 4
 },
 "nbformat": 4,
 "nbformat_minor": 2
}
