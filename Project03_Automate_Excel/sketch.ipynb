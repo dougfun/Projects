{
 "cells": [
  {
   "cell_type": "code",
   "execution_count": 1,
   "metadata": {},
   "outputs": [],
   "source": [
    "import pdfplumber\n",
    "import openpyxl as xl"
   ]
  },
  {
   "cell_type": "code",
   "execution_count": 2,
   "metadata": {},
   "outputs": [],
   "source": [
    "# Basic features of openpyxl\n",
    "\n",
    "excel = xl.load_workbook('database_inspections.xlsx')"
   ]
  },
  {
   "cell_type": "code",
   "execution_count": 3,
   "metadata": {},
   "outputs": [],
   "source": [
    "# Activating sheet\n",
    "\n",
    "sheet = excel.active"
   ]
  },
  {
   "cell_type": "code",
   "execution_count": 4,
   "metadata": {},
   "outputs": [
    {
     "data": {
      "text/plain": [
       "openpyxl.cell.cell.Cell"
      ]
     },
     "execution_count": 4,
     "metadata": {},
     "output_type": "execute_result"
    }
   ],
   "source": [
    "type(sheet['A1'])"
   ]
  },
  {
   "cell_type": "code",
   "execution_count": 5,
   "metadata": {},
   "outputs": [],
   "source": [
    "sheet['E1'].value"
   ]
  },
  {
   "cell_type": "code",
   "execution_count": 13,
   "metadata": {},
   "outputs": [],
   "source": [
    "sheet.cell(row=1, column=2).value"
   ]
  },
  {
   "cell_type": "code",
   "execution_count": 7,
   "metadata": {},
   "outputs": [],
   "source": [
    "sheet.cell(row=2, column=1).value = 'Empowerdata'"
   ]
  },
  {
   "cell_type": "code",
   "execution_count": 31,
   "metadata": {},
   "outputs": [],
   "source": [
    "excel.save('database_inspections.xlsx')"
   ]
  },
  {
   "attachments": {},
   "cell_type": "markdown",
   "metadata": {},
   "source": [
    "#### Basic features of PDFplumber"
   ]
  },
  {
   "cell_type": "code",
   "execution_count": 34,
   "metadata": {},
   "outputs": [],
   "source": [
    "pdf = pdfplumber.open('pdfs\\Relatório de Inspeção Empresa A.pdf')"
   ]
  },
  {
   "cell_type": "code",
   "execution_count": 35,
   "metadata": {},
   "outputs": [
    {
     "data": {
      "text/plain": [
       "pdfplumber.pdf.PDF"
      ]
     },
     "execution_count": 35,
     "metadata": {},
     "output_type": "execute_result"
    }
   ],
   "source": [
    "type(pdf)"
   ]
  },
  {
   "cell_type": "code",
   "execution_count": 38,
   "metadata": {},
   "outputs": [
    {
     "data": {
      "text/plain": [
       "pdfplumber.page.Page"
      ]
     },
     "execution_count": 38,
     "metadata": {},
     "output_type": "execute_result"
    }
   ],
   "source": [
    "page = pdf.pages[0]\n",
    "type(page)"
   ]
  },
  {
   "cell_type": "code",
   "execution_count": 40,
   "metadata": {},
   "outputs": [
    {
     "data": {
      "text/plain": [
       "[['Data da inspeção', 'Empresa', 'Departamento', 'Setor', 'Status'],\n",
       " ['01/01/2022', 'Empresa A', 'Recursos Humanos', 'Sala 1', 'Aprovado'],\n",
       " ['01/01/2022', 'Empresa A', 'Recursos Humanos', 'Sala 2', 'Aprovado'],\n",
       " ['01/01/2022', 'Empresa A', 'Recursos Humanos', 'Sala3', 'Aprovado'],\n",
       " ['01/01/2022', 'Empresa A', 'Recursos Humanos', 'Sala 4', 'Aprovado'],\n",
       " ['01/01/2022', 'Empresa A', 'Recursos Humanos', 'Banheiro', 'Reprovado'],\n",
       " ['01/01/2022', 'Empresa A', 'Recursos Humanos', 'Refeitório', 'Aprovado'],\n",
       " ['01/01/2022', 'Empresa A', 'Recursos Humanos', 'Sala 5', 'Aprovado'],\n",
       " ['02/02/2022', 'Empresa A', 'Tecnologia da Informação', 'Sala 1', 'Aprovado'],\n",
       " ['02/02/2022', 'Empresa A', 'Tecnologia da Informação', 'Sala 2', 'Aprovado'],\n",
       " ['02/02/2022', 'Empresa A', 'Tecnologia da Informação', 'Sala 3', 'Aprovado'],\n",
       " ['02/02/2022',\n",
       "  'Empresa A',\n",
       "  'Tecnologia da Informação',\n",
       "  'Banheiro',\n",
       "  'Reprovado'],\n",
       " ['02/02/2022',\n",
       "  'Empresa A',\n",
       "  'Tecnologia da Informação',\n",
       "  'Refeitório',\n",
       "  'Aprovado'],\n",
       " ['03/02/2022', 'Empresa A', 'Galpão I', 'Aréa descarga', 'Aprovado'],\n",
       " ['03/02/2022', 'Empresa A', 'Galpão I', 'Sala 1', 'Aprovado'],\n",
       " ['03/02/2022', 'Empresa A', 'Galpão I', 'Sala 2', 'Aprovado'],\n",
       " ['03/02/2022', 'Empresa A', 'Galpão I', 'Sala 3', 'Aprovado'],\n",
       " ['03/02/2022', 'Empresa A', 'Galpão I', 'Área carga', 'Aprovado'],\n",
       " ['03/02/2022', 'Empresa A', 'Galpão I', 'Refeitório', 'Aprovado'],\n",
       " ['03/02/2022', 'Empresa A', 'Galpão I', 'Banheiro', 'Reprovado'],\n",
       " ['', '', '', '', ''],\n",
       " ['', '', '', '', ''],\n",
       " ['', '', '', '', ''],\n",
       " ['', '', '', '', ''],\n",
       " ['', '', '', '', ''],\n",
       " ['', '', '', '', ''],\n",
       " ['', '', '', '', ''],\n",
       " ['', '', '', '', ''],\n",
       " ['', '', '', '', ''],\n",
       " ['', '', '', '', ''],\n",
       " ['', '', '', '', ''],\n",
       " ['', '', '', '', ''],\n",
       " ['', '', '', '', ''],\n",
       " ['', '', '', '', ''],\n",
       " ['', '', '', '', ''],\n",
       " ['', '', '', '', ''],\n",
       " ['', '', '', '', ''],\n",
       " ['', '', '', '', ''],\n",
       " ['', '', '', '', ''],\n",
       " ['', '', '', '', '']]"
      ]
     },
     "execution_count": 40,
     "metadata": {},
     "output_type": "execute_result"
    }
   ],
   "source": [
    "page.extract_table()"
   ]
  },
  {
   "cell_type": "code",
   "execution_count": 41,
   "metadata": {},
   "outputs": [],
   "source": [
    "data = page.extract_table()"
   ]
  },
  {
   "cell_type": "code",
   "execution_count": 43,
   "metadata": {},
   "outputs": [
    {
     "data": {
      "text/plain": [
       "['Data da inspeção', 'Empresa', 'Departamento', 'Setor', 'Status']"
      ]
     },
     "execution_count": 43,
     "metadata": {},
     "output_type": "execute_result"
    }
   ],
   "source": [
    "data[0] # This will return row by row"
   ]
  },
  {
   "cell_type": "code",
   "execution_count": null,
   "metadata": {},
   "outputs": [],
   "source": []
  }
 ],
 "metadata": {
  "kernelspec": {
   "display_name": "venv",
   "language": "python",
   "name": "python3"
  },
  "language_info": {
   "codemirror_mode": {
    "name": "ipython",
    "version": 3
   },
   "file_extension": ".py",
   "mimetype": "text/x-python",
   "name": "python",
   "nbconvert_exporter": "python",
   "pygments_lexer": "ipython3",
   "version": "3.9.13"
  },
  "orig_nbformat": 4,
  "vscode": {
   "interpreter": {
    "hash": "69273c542d611481c58535d9feceb2d111c2efb547a6c17ae0d8b359fbbe6f8c"
   }
  }
 },
 "nbformat": 4,
 "nbformat_minor": 2
}
